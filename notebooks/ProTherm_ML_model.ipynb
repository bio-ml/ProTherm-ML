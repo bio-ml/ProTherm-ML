{
 "cells": [
  {
   "cell_type": "code",
   "execution_count": 1,
   "id": "0b3afff6",
   "metadata": {},
   "outputs": [],
   "source": [
    "#notebook setup\n",
    "import os\n",
    "import numpy as np\n",
    "import pandas as pd\n",
    "import requests\n",
    "import matplotlib.pyplot as plt\n",
    "import seaborn as sns; sns.set()\n",
    "%matplotlib inline\n",
    "\n",
    "#get current working directory \n",
    "cwd = os.getcwd()\n",
    "\n",
    "#get data\n",
    "file_path = os.path.join(cwd, 'Dataset', 'seq_temp.csv')"
   ]
  },
  {
   "cell_type": "code",
   "execution_count": 2,
   "id": "68f19a62",
   "metadata": {},
   "outputs": [],
   "source": [
    "def import_prep_data(path, load_columns):\n",
    "    \n",
    "    #load data with specific columns\n",
    "    seq_temp = pd.read_csv(path, usecols=load_columns)\n",
    "    \n",
    "    #drop na values\n",
    "    seq_temp.dropna(subset=['pH', 'Sequence', 'Tm_(C)'], inplace=True)\n",
    "    \n",
    "    #trim Tm_(C) and convert to float\n",
    "    for i in seq_temp.index:\n",
    "        if '(' in seq_temp.loc[i, 'Tm_(C)'][:4]:\n",
    "            seq_temp.loc[i, 'Tm_(C)'] = seq_temp.loc[i, 'Tm_(C)'][:2]\n",
    "        else:\n",
    "            seq_temp.loc[i, 'Tm_(C)'] = seq_temp.loc[i, 'Tm_(C)'][:4]\n",
    "    seq_temp['Tm_(C)'] = seq_temp['Tm_(C)'].astype(float)\n",
    "    \n",
    "    return seq_temp"
   ]
  },
  {
   "cell_type": "code",
   "execution_count": 3,
   "id": "c78fe971",
   "metadata": {},
   "outputs": [
    {
     "name": "stdout",
     "output_type": "stream",
     "text": [
      "<class 'pandas.core.frame.DataFrame'>\n",
      "Int64Index: 4743 entries, 0 to 4777\n",
      "Data columns (total 5 columns):\n",
      " #   Column           Non-Null Count  Dtype  \n",
      "---  ------           --------------  -----  \n",
      " 0   UniProt_ID       4743 non-null   object \n",
      " 1   pH               4743 non-null   float64\n",
      " 2   Tm_(C)           4743 non-null   float64\n",
      " 3   Sequence         4743 non-null   object \n",
      " 4   Sequence_length  4743 non-null   float64\n",
      "dtypes: float64(3), object(2)\n",
      "memory usage: 351.4+ KB\n"
     ]
    },
    {
     "data": {
      "text/plain": [
       "None"
      ]
     },
     "metadata": {},
     "output_type": "display_data"
    },
    {
     "data": {
      "text/html": [
       "<div>\n",
       "<style scoped>\n",
       "    .dataframe tbody tr th:only-of-type {\n",
       "        vertical-align: middle;\n",
       "    }\n",
       "\n",
       "    .dataframe tbody tr th {\n",
       "        vertical-align: top;\n",
       "    }\n",
       "\n",
       "    .dataframe thead th {\n",
       "        text-align: right;\n",
       "    }\n",
       "</style>\n",
       "<table border=\"1\" class=\"dataframe\">\n",
       "  <thead>\n",
       "    <tr style=\"text-align: right;\">\n",
       "      <th></th>\n",
       "      <th>UniProt_ID</th>\n",
       "      <th>pH</th>\n",
       "      <th>Tm_(C)</th>\n",
       "      <th>Sequence</th>\n",
       "      <th>Sequence_length</th>\n",
       "    </tr>\n",
       "  </thead>\n",
       "  <tbody>\n",
       "    <tr>\n",
       "      <th>0</th>\n",
       "      <td>P19515</td>\n",
       "      <td>8.0</td>\n",
       "      <td>58.7</td>\n",
       "      <td>MVLKQRANYLGFLIVFFTAFLVEAVPIKRQSNSTVDSLPPLIPSRT...</td>\n",
       "      <td>363.0</td>\n",
       "    </tr>\n",
       "    <tr>\n",
       "      <th>1</th>\n",
       "      <td>P43080</td>\n",
       "      <td>7.5</td>\n",
       "      <td>49.8</td>\n",
       "      <td>MGNVMEGKSVEELSSTECHQWYKKFMTECPSGQLTLYEFRQFFGLK...</td>\n",
       "      <td>201.0</td>\n",
       "    </tr>\n",
       "    <tr>\n",
       "      <th>2</th>\n",
       "      <td>P43080</td>\n",
       "      <td>7.5</td>\n",
       "      <td>50.3</td>\n",
       "      <td>MGNVMEGKSVEELSSTECHQWYKKFMTECPSGQLTLYEFRQFFGLK...</td>\n",
       "      <td>201.0</td>\n",
       "    </tr>\n",
       "    <tr>\n",
       "      <th>3</th>\n",
       "      <td>P31513</td>\n",
       "      <td>7.4</td>\n",
       "      <td>45.8</td>\n",
       "      <td>MGKKVAIIGAGVSGLASIRSCLEEGLEPTCFEKSNDIGGLWKFSDH...</td>\n",
       "      <td>532.0</td>\n",
       "    </tr>\n",
       "    <tr>\n",
       "      <th>4</th>\n",
       "      <td>P31513</td>\n",
       "      <td>7.4</td>\n",
       "      <td>50.6</td>\n",
       "      <td>MGKKVAIIGAGVSGLASIRSCLEEGLEPTCFEKSNDIGGLWKFSDH...</td>\n",
       "      <td>532.0</td>\n",
       "    </tr>\n",
       "  </tbody>\n",
       "</table>\n",
       "</div>"
      ],
      "text/plain": [
       "  UniProt_ID   pH  Tm_(C)                                           Sequence  \\\n",
       "0     P19515  8.0    58.7  MVLKQRANYLGFLIVFFTAFLVEAVPIKRQSNSTVDSLPPLIPSRT...   \n",
       "1     P43080  7.5    49.8  MGNVMEGKSVEELSSTECHQWYKKFMTECPSGQLTLYEFRQFFGLK...   \n",
       "2     P43080  7.5    50.3  MGNVMEGKSVEELSSTECHQWYKKFMTECPSGQLTLYEFRQFFGLK...   \n",
       "3     P31513  7.4    45.8  MGKKVAIIGAGVSGLASIRSCLEEGLEPTCFEKSNDIGGLWKFSDH...   \n",
       "4     P31513  7.4    50.6  MGKKVAIIGAGVSGLASIRSCLEEGLEPTCFEKSNDIGGLWKFSDH...   \n",
       "\n",
       "   Sequence_length  \n",
       "0            363.0  \n",
       "1            201.0  \n",
       "2            201.0  \n",
       "3            532.0  \n",
       "4            532.0  "
      ]
     },
     "metadata": {},
     "output_type": "display_data"
    }
   ],
   "source": [
    "temp = import_prep_data(file_path, ['UniProt_ID', 'pH', 'Tm_(C)', 'Sequence', 'Sequence_length' ])\n",
    "display(temp.info(), temp.head())"
   ]
  },
  {
   "cell_type": "code",
   "execution_count": 4,
   "id": "15ba6515",
   "metadata": {},
   "outputs": [],
   "source": [
    "def trim_data(frame, ph_upper, ph_lower, seq_len_upper, seq_len_lower):\n",
    "    '''\n",
    "    Function to make trim the DataFrame\n",
    "    based on upper and lower limits for \n",
    "    pH values and sequence lengths. \n",
    "    '''\n",
    "    ph_trim = frame[(frame['pH'] >= ph_lower) & (frame['pH'] <= ph_upper)]\n",
    "    ph_seq_trim = ph_trim[(ph_trim['Sequence_length'] >= seq_len_lower) & (ph_trim['Sequence_length'] <= seq_len_upper)]\n",
    "    \n",
    "    return ph_seq_trim"
   ]
  },
  {
   "cell_type": "code",
   "execution_count": 5,
   "id": "da224638",
   "metadata": {},
   "outputs": [
    {
     "name": "stdout",
     "output_type": "stream",
     "text": [
      "<class 'pandas.core.frame.DataFrame'>\n",
      "Int64Index: 1118 entries, 27 to 4773\n",
      "Data columns (total 5 columns):\n",
      " #   Column           Non-Null Count  Dtype  \n",
      "---  ------           --------------  -----  \n",
      " 0   UniProt_ID       1118 non-null   object \n",
      " 1   pH               1118 non-null   float64\n",
      " 2   Tm_(C)           1118 non-null   float64\n",
      " 3   Sequence         1118 non-null   object \n",
      " 4   Sequence_length  1118 non-null   float64\n",
      "dtypes: float64(3), object(2)\n",
      "memory usage: 52.4+ KB\n"
     ]
    },
    {
     "data": {
      "text/plain": [
       "None"
      ]
     },
     "metadata": {},
     "output_type": "display_data"
    },
    {
     "data": {
      "text/html": [
       "<div>\n",
       "<style scoped>\n",
       "    .dataframe tbody tr th:only-of-type {\n",
       "        vertical-align: middle;\n",
       "    }\n",
       "\n",
       "    .dataframe tbody tr th {\n",
       "        vertical-align: top;\n",
       "    }\n",
       "\n",
       "    .dataframe thead th {\n",
       "        text-align: right;\n",
       "    }\n",
       "</style>\n",
       "<table border=\"1\" class=\"dataframe\">\n",
       "  <thead>\n",
       "    <tr style=\"text-align: right;\">\n",
       "      <th></th>\n",
       "      <th>UniProt_ID</th>\n",
       "      <th>pH</th>\n",
       "      <th>Tm_(C)</th>\n",
       "      <th>Sequence</th>\n",
       "      <th>Sequence_length</th>\n",
       "    </tr>\n",
       "  </thead>\n",
       "  <tbody>\n",
       "    <tr>\n",
       "      <th>27</th>\n",
       "      <td>P17989</td>\n",
       "      <td>7.0</td>\n",
       "      <td>48.0</td>\n",
       "      <td>MNIKKTAVKSALAVAAAAAALTTNVSAKDFSGAELYTLEEVQYGKF...</td>\n",
       "      <td>349.0</td>\n",
       "    </tr>\n",
       "    <tr>\n",
       "      <th>28</th>\n",
       "      <td>P62593</td>\n",
       "      <td>6.8</td>\n",
       "      <td>51.5</td>\n",
       "      <td>MSIQHFRVALIPFFAAFCLPVFAHPETLVKVKDAEDQLGARVGYIE...</td>\n",
       "      <td>286.0</td>\n",
       "    </tr>\n",
       "    <tr>\n",
       "      <th>29</th>\n",
       "      <td>P0ABE7</td>\n",
       "      <td>6.0</td>\n",
       "      <td>54.0</td>\n",
       "      <td>MRKSLLAILAVSSLVFSSASFAADLEDNMETLNDNLKVIEKADNAA...</td>\n",
       "      <td>128.0</td>\n",
       "    </tr>\n",
       "    <tr>\n",
       "      <th>34</th>\n",
       "      <td>P02699</td>\n",
       "      <td>7.0</td>\n",
       "      <td>55.8</td>\n",
       "      <td>MNGTEGPNFYVPFSNKTGVVRSPFEAPQYYLAEPWQFSMLAAYMFL...</td>\n",
       "      <td>348.0</td>\n",
       "    </tr>\n",
       "    <tr>\n",
       "      <th>38</th>\n",
       "      <td>P00651</td>\n",
       "      <td>6.0</td>\n",
       "      <td>57.2</td>\n",
       "      <td>MMYSKLLTLTTLLLPTALALPSLVERACDYTCGSNCYSSSDVSTAQ...</td>\n",
       "      <td>130.0</td>\n",
       "    </tr>\n",
       "  </tbody>\n",
       "</table>\n",
       "</div>"
      ],
      "text/plain": [
       "   UniProt_ID   pH  Tm_(C)                                           Sequence  \\\n",
       "27     P17989  7.0    48.0  MNIKKTAVKSALAVAAAAAALTTNVSAKDFSGAELYTLEEVQYGKF...   \n",
       "28     P62593  6.8    51.5  MSIQHFRVALIPFFAAFCLPVFAHPETLVKVKDAEDQLGARVGYIE...   \n",
       "29     P0ABE7  6.0    54.0  MRKSLLAILAVSSLVFSSASFAADLEDNMETLNDNLKVIEKADNAA...   \n",
       "34     P02699  7.0    55.8  MNGTEGPNFYVPFSNKTGVVRSPFEAPQYYLAEPWQFSMLAAYMFL...   \n",
       "38     P00651  6.0    57.2  MMYSKLLTLTTLLLPTALALPSLVERACDYTCGSNCYSSSDVSTAQ...   \n",
       "\n",
       "    Sequence_length  \n",
       "27            349.0  \n",
       "28            286.0  \n",
       "29            128.0  \n",
       "34            348.0  \n",
       "38            130.0  "
      ]
     },
     "metadata": {},
     "output_type": "display_data"
    }
   ],
   "source": [
    "'''\n",
    "pH is known to influence Tm. Tm\n",
    "range was selected based on prior\n",
    "exploration that showed the largest\n",
    "sample size within 1 pH unit was \n",
    "between pH 6 and 7.\n",
    "'''\n",
    "trim_temp = trim_data(temp, 7, 6, 500, 100)\n",
    "display(trim_temp.info(), trim_temp.head())"
   ]
  },
  {
   "cell_type": "code",
   "execution_count": 6,
   "id": "36204949",
   "metadata": {
    "scrolled": true
   },
   "outputs": [
    {
     "name": "stdout",
     "output_type": "stream",
     "text": [
      "<class 'pandas.core.frame.DataFrame'>\n",
      "Int64Index: 1118 entries, 27 to 4773\n",
      "Data columns (total 6 columns):\n",
      " #   Column           Non-Null Count  Dtype   \n",
      "---  ------           --------------  -----   \n",
      " 0   UniProt_ID       1118 non-null   object  \n",
      " 1   pH               1118 non-null   float64 \n",
      " 2   Tm_(C)           1118 non-null   float64 \n",
      " 3   Sequence         1118 non-null   object  \n",
      " 4   Sequence_length  1118 non-null   float64 \n",
      " 5   cat              1118 non-null   category\n",
      "dtypes: category(1), float64(3), object(2)\n",
      "memory usage: 53.6+ KB\n"
     ]
    },
    {
     "data": {
      "text/plain": [
       "None"
      ]
     },
     "metadata": {},
     "output_type": "display_data"
    },
    {
     "data": {
      "text/html": [
       "<div>\n",
       "<style scoped>\n",
       "    .dataframe tbody tr th:only-of-type {\n",
       "        vertical-align: middle;\n",
       "    }\n",
       "\n",
       "    .dataframe tbody tr th {\n",
       "        vertical-align: top;\n",
       "    }\n",
       "\n",
       "    .dataframe thead th {\n",
       "        text-align: right;\n",
       "    }\n",
       "</style>\n",
       "<table border=\"1\" class=\"dataframe\">\n",
       "  <thead>\n",
       "    <tr style=\"text-align: right;\">\n",
       "      <th></th>\n",
       "      <th>UniProt_ID</th>\n",
       "      <th>pH</th>\n",
       "      <th>Tm_(C)</th>\n",
       "      <th>Sequence</th>\n",
       "      <th>Sequence_length</th>\n",
       "      <th>cat</th>\n",
       "    </tr>\n",
       "  </thead>\n",
       "  <tbody>\n",
       "    <tr>\n",
       "      <th>27</th>\n",
       "      <td>P17989</td>\n",
       "      <td>7.0</td>\n",
       "      <td>48.0</td>\n",
       "      <td>MNIKKTAVKSALAVAAAAAALTTNVSAKDFSGAELYTLEEVQYGKF...</td>\n",
       "      <td>349.0</td>\n",
       "      <td>1</td>\n",
       "    </tr>\n",
       "    <tr>\n",
       "      <th>28</th>\n",
       "      <td>P62593</td>\n",
       "      <td>6.8</td>\n",
       "      <td>51.5</td>\n",
       "      <td>MSIQHFRVALIPFFAAFCLPVFAHPETLVKVKDAEDQLGARVGYIE...</td>\n",
       "      <td>286.0</td>\n",
       "      <td>2</td>\n",
       "    </tr>\n",
       "    <tr>\n",
       "      <th>29</th>\n",
       "      <td>P0ABE7</td>\n",
       "      <td>6.0</td>\n",
       "      <td>54.0</td>\n",
       "      <td>MRKSLLAILAVSSLVFSSASFAADLEDNMETLNDNLKVIEKADNAA...</td>\n",
       "      <td>128.0</td>\n",
       "      <td>2</td>\n",
       "    </tr>\n",
       "    <tr>\n",
       "      <th>34</th>\n",
       "      <td>P02699</td>\n",
       "      <td>7.0</td>\n",
       "      <td>55.8</td>\n",
       "      <td>MNGTEGPNFYVPFSNKTGVVRSPFEAPQYYLAEPWQFSMLAAYMFL...</td>\n",
       "      <td>348.0</td>\n",
       "      <td>2</td>\n",
       "    </tr>\n",
       "    <tr>\n",
       "      <th>38</th>\n",
       "      <td>P00651</td>\n",
       "      <td>6.0</td>\n",
       "      <td>57.2</td>\n",
       "      <td>MMYSKLLTLTTLLLPTALALPSLVERACDYTCGSNCYSSSDVSTAQ...</td>\n",
       "      <td>130.0</td>\n",
       "      <td>2</td>\n",
       "    </tr>\n",
       "  </tbody>\n",
       "</table>\n",
       "</div>"
      ],
      "text/plain": [
       "   UniProt_ID   pH  Tm_(C)                                           Sequence  \\\n",
       "27     P17989  7.0    48.0  MNIKKTAVKSALAVAAAAAALTTNVSAKDFSGAELYTLEEVQYGKF...   \n",
       "28     P62593  6.8    51.5  MSIQHFRVALIPFFAAFCLPVFAHPETLVKVKDAEDQLGARVGYIE...   \n",
       "29     P0ABE7  6.0    54.0  MRKSLLAILAVSSLVFSSASFAADLEDNMETLNDNLKVIEKADNAA...   \n",
       "34     P02699  7.0    55.8  MNGTEGPNFYVPFSNKTGVVRSPFEAPQYYLAEPWQFSMLAAYMFL...   \n",
       "38     P00651  6.0    57.2  MMYSKLLTLTTLLLPTALALPSLVERACDYTCGSNCYSSSDVSTAQ...   \n",
       "\n",
       "    Sequence_length cat  \n",
       "27            349.0   1  \n",
       "28            286.0   2  \n",
       "29            128.0   2  \n",
       "34            348.0   2  \n",
       "38            130.0   2  "
      ]
     },
     "metadata": {},
     "output_type": "display_data"
    }
   ],
   "source": [
    "#create classes\n",
    "temp_bins = [0, 40, 50, 100]\n",
    "temp_labels = ['0', '1', '2'] #high risk (0), low_risk (1), target (2)\n",
    "\n",
    "temp_cat = pd.cut(trim_temp['Tm_(C)'], temp_bins, labels=temp_labels)\n",
    "\n",
    "trim_temp['cat'] = temp_cat\n",
    "display(trim_temp.info(), trim_temp.head())"
   ]
  },
  {
   "cell_type": "code",
   "execution_count": 7,
   "id": "baa0df7a",
   "metadata": {
    "scrolled": true
   },
   "outputs": [
    {
     "data": {
      "text/plain": [
       "<AxesSubplot:>"
      ]
     },
     "execution_count": 7,
     "metadata": {},
     "output_type": "execute_result"
    },
    {
     "data": {
      "image/png": "[encoded data removed]",
      "text/plain": [
       "<Figure size 432x288 with 1 Axes>"
      ]
     },
     "metadata": {
      "needs_background": "light"
     },
     "output_type": "display_data"
    }
   ],
   "source": [
    "'''\n",
    "Example the distribtion of Tm categories. \n",
    "'''\n",
    "trim_temp['cat'].hist()"
   ]
  },
  {
   "cell_type": "code",
   "execution_count": 8,
   "id": "f5fda1c2",
   "metadata": {},
   "outputs": [
    {
     "name": "stdout",
     "output_type": "stream",
     "text": [
      "<class 'pandas.core.frame.DataFrame'>\n",
      "Int64Index: 300 entries, 70 to 282\n",
      "Data columns (total 6 columns):\n",
      " #   Column           Non-Null Count  Dtype   \n",
      "---  ------           --------------  -----   \n",
      " 0   UniProt_ID       300 non-null    object  \n",
      " 1   pH               300 non-null    float64 \n",
      " 2   Tm_(C)           300 non-null    float64 \n",
      " 3   Sequence         300 non-null    object  \n",
      " 4   Sequence_length  300 non-null    float64 \n",
      " 5   cat              300 non-null    category\n",
      "dtypes: category(1), float64(3), object(2)\n",
      "memory usage: 14.5+ KB\n"
     ]
    },
    {
     "data": {
      "text/plain": [
       "None"
      ]
     },
     "metadata": {},
     "output_type": "display_data"
    },
    {
     "data": {
      "text/html": [
       "<div>\n",
       "<style scoped>\n",
       "    .dataframe tbody tr th:only-of-type {\n",
       "        vertical-align: middle;\n",
       "    }\n",
       "\n",
       "    .dataframe tbody tr th {\n",
       "        vertical-align: top;\n",
       "    }\n",
       "\n",
       "    .dataframe thead th {\n",
       "        text-align: right;\n",
       "    }\n",
       "</style>\n",
       "<table border=\"1\" class=\"dataframe\">\n",
       "  <thead>\n",
       "    <tr style=\"text-align: right;\">\n",
       "      <th></th>\n",
       "      <th>UniProt_ID</th>\n",
       "      <th>pH</th>\n",
       "      <th>Tm_(C)</th>\n",
       "      <th>Sequence</th>\n",
       "      <th>Sequence_length</th>\n",
       "      <th>cat</th>\n",
       "    </tr>\n",
       "  </thead>\n",
       "  <tbody>\n",
       "    <tr>\n",
       "      <th>70</th>\n",
       "      <td>P00711</td>\n",
       "      <td>7.0</td>\n",
       "      <td>25.0</td>\n",
       "      <td>MMSFVSLLLVGILFHATQAEQLTKCEVFRELKDLKGYGGVSLPEWV...</td>\n",
       "      <td>142.0</td>\n",
       "      <td>0</td>\n",
       "    </tr>\n",
       "    <tr>\n",
       "      <th>104</th>\n",
       "      <td>P11376</td>\n",
       "      <td>6.0</td>\n",
       "      <td>37.0</td>\n",
       "      <td>KVFSKCELAHKLKAQEMDGFGGYSLANWVCMAEYESNFNTRAFNGK...</td>\n",
       "      <td>129.0</td>\n",
       "      <td>0</td>\n",
       "    </tr>\n",
       "    <tr>\n",
       "      <th>326</th>\n",
       "      <td>P05230</td>\n",
       "      <td>6.6</td>\n",
       "      <td>40.0</td>\n",
       "      <td>MAEGEITTFTALTEKFNLPPGNYKKPKLLYCSNGGHFLRILPDGTV...</td>\n",
       "      <td>155.0</td>\n",
       "      <td>0</td>\n",
       "    </tr>\n",
       "    <tr>\n",
       "      <th>329</th>\n",
       "      <td>P38584</td>\n",
       "      <td>7.0</td>\n",
       "      <td>25.9</td>\n",
       "      <td>MYTFVVRDENSSVYAEVSRLLLATGHWKRLRRDNPRFNLMLGERNR...</td>\n",
       "      <td>377.0</td>\n",
       "      <td>0</td>\n",
       "    </tr>\n",
       "    <tr>\n",
       "      <th>330</th>\n",
       "      <td>P38584</td>\n",
       "      <td>7.0</td>\n",
       "      <td>25.9</td>\n",
       "      <td>MYTFVVRDENSSVYAEVSRLLLATGHWKRLRRDNPRFNLMLGERNR...</td>\n",
       "      <td>377.0</td>\n",
       "      <td>0</td>\n",
       "    </tr>\n",
       "  </tbody>\n",
       "</table>\n",
       "</div>"
      ],
      "text/plain": [
       "    UniProt_ID   pH  Tm_(C)  \\\n",
       "70      P00711  7.0    25.0   \n",
       "104     P11376  6.0    37.0   \n",
       "326     P05230  6.6    40.0   \n",
       "329     P38584  7.0    25.9   \n",
       "330     P38584  7.0    25.9   \n",
       "\n",
       "                                              Sequence  Sequence_length cat  \n",
       "70   MMSFVSLLLVGILFHATQAEQLTKCEVFRELKDLKGYGGVSLPEWV...            142.0   0  \n",
       "104  KVFSKCELAHKLKAQEMDGFGGYSLANWVCMAEYESNFNTRAFNGK...            129.0   0  \n",
       "326  MAEGEITTFTALTEKFNLPPGNYKKPKLLYCSNGGHFLRILPDGTV...            155.0   0  \n",
       "329  MYTFVVRDENSSVYAEVSRLLLATGHWKRLRRDNPRFNLMLGERNR...            377.0   0  \n",
       "330  MYTFVVRDENSSVYAEVSRLLLATGHWKRLRRDNPRFNLMLGERNR...            377.0   0  "
      ]
     },
     "metadata": {},
     "output_type": "display_data"
    }
   ],
   "source": [
    "'''\n",
    "Tm in the no risk category are over\n",
    "represented. Risk categories are going\n",
    "to be evenly selected for equal \n",
    "representation in the training and \n",
    "test set\n",
    "'''\n",
    "#break data into parts \n",
    "high_risk_temp = trim_temp[trim_temp['cat'] == '0']\n",
    "risk_temp = trim_temp[trim_temp['cat'] == '1']\n",
    "target_temp = trim_temp[trim_temp['cat'] == '2']\n",
    "\n",
    "equal_temp = pd.concat([high_risk_temp[:100], risk_temp[:100],\n",
    "                       target_temp[:100]])\n",
    "display(equal_temp.info(), equal_temp.head())"
   ]
  },
  {
   "cell_type": "code",
   "execution_count": 9,
   "id": "30114f96",
   "metadata": {},
   "outputs": [],
   "source": [
    "#MNB requires list input create function to generate lists \n",
    "def frame_to_list(frame, y_frame, x_frame):\n",
    "    '''\n",
    "    y_frame is column from dataframe to be\n",
    "    used as labels. No transformation needed.\n",
    "    simply convert to numpy array\n",
    "    \n",
    "    x_frame is column from DataFrame to be\n",
    "    converted to a list. sequence of amino\n",
    "    acids need to be convert to string with\n",
    "    spacing between.\n",
    "    '''\n",
    "    #convert labels into numpy array\n",
    "    labels = frame[y_frame].to_numpy()\n",
    "    \n",
    "    seq_list = []\n",
    "    \n",
    "    for row in frame.index:\n",
    "        seq_to_split = frame.loc[row, x_frame]\n",
    "        seq_list.append(' '.join(seq_to_split))\n",
    "        \n",
    "    return seq_list, labels "
   ]
  },
  {
   "cell_type": "code",
   "execution_count": 10,
   "id": "d0729aa2",
   "metadata": {},
   "outputs": [
    {
     "name": "stdout",
     "output_type": "stream",
     "text": [
      "M A E G E I T T F T A L T E K F N L P P G N Y K K P K L L Y C S N G G H F L R I L P D G T V D G T R D R S D Q H I Q L Q L S A E S V G E V Y I K S T E T G Q Y L A M D T D G L L Y G S Q T P N E E C L F L E R L E E N H Y N T Y I S K K H A E K N W F V G L K K N G S C K R G P R T H Y G Q K A I L F L P L P V S S D <class 'str'>\n"
     ]
    },
    {
     "data": {
      "text/plain": [
       "('0', list, numpy.ndarray)"
      ]
     },
     "execution_count": 10,
     "metadata": {},
     "output_type": "execute_result"
    }
   ],
   "source": [
    "'''\n",
    "Ensure features matrix and labels are\n",
    "in the correct format for MNB\n",
    "'''\n",
    "X, y = frame_to_list(equal_temp, 'cat', 'Sequence')\n",
    "print(X[2], type(X[2]))\n",
    "y[2], type(X), type(y)"
   ]
  },
  {
   "cell_type": "code",
   "execution_count": 11,
   "id": "8799f5bd",
   "metadata": {},
   "outputs": [],
   "source": [
    "#make pipeline, train. predict\n",
    "from sklearn.feature_extraction.text import TfidfVectorizer\n",
    "from sklearn.naive_bayes import MultinomialNB\n",
    "from sklearn.pipeline import make_pipeline\n",
    "\n",
    "'''\n",
    "TfidfVectorizer ignores single character\n",
    "words. Use tokenizer parameter to adjust\n",
    "for single characters.\n",
    "'''\n",
    "\n",
    "model = make_pipeline(TfidfVectorizer(tokenizer=lambda txt: txt.split()), MultinomialNB())\n",
    "\n",
    "#train\n",
    "model.fit(X, y)\n",
    "labels = model.predict(X)"
   ]
  },
  {
   "cell_type": "code",
   "execution_count": 12,
   "id": "d5993f36",
   "metadata": {
    "scrolled": true
   },
   "outputs": [
    {
     "data": {
      "image/png": "[encoded data removed]",
      "text/plain": [
       "<Figure size 432x288 with 1 Axes>"
      ]
     },
     "metadata": {
      "needs_background": "light"
     },
     "output_type": "display_data"
    }
   ],
   "source": [
    "#confusion matrix between true and predicted labels \n",
    "from sklearn.metrics import confusion_matrix\n",
    "mat = confusion_matrix(y, labels)\n",
    "\n",
    "#plot confusion matrix\n",
    "sns.heatmap(mat.T, square=True, annot=True, fmt='d', cbar=False,\n",
    "            xticklabels=temp_labels, yticklabels=temp_labels)\n",
    "plt.xlabel('true label')\n",
    "plt.ylabel('predicted label');"
   ]
  },
  {
   "cell_type": "code",
   "execution_count": null,
   "id": "dca6e9c1",
   "metadata": {},
   "outputs": [],
   "source": [
    "'''\n",
    "Given no current methods for selecting\n",
    "against Tm of high risk, this is reasonable.\n",
    "Try a more powerful algorithm to see if\n",
    "classification can be improved\n",
    "'''"
   ]
  },
  {
   "cell_type": "code",
   "execution_count": 13,
   "id": "1c4c3c9c",
   "metadata": {},
   "outputs": [
    {
     "name": "stdout",
     "output_type": "stream",
     "text": [
      "{'svc__C': 10.0, 'svc__gamma': 1}\n"
     ]
    }
   ],
   "source": [
    "from sklearn.svm import SVC\n",
    "from sklearn.model_selection import GridSearchCV\n",
    "from sklearn.feature_extraction.text import TfidfVectorizer\n",
    "from sklearn.pipeline import make_pipeline\n",
    "\n",
    "param_grid = {'svc__C': [0.0001, 0.001, 0.1, 1, 1E1, 1E2],\n",
    "         'svc__gamma': [0.01, 0.1, 1, 1E1, 1E2, 1E3, 1E4, 1E5, 1E6]}\n",
    "\n",
    "vec = TfidfVectorizer(tokenizer=lambda txt: txt.split())\n",
    "svc = SVC()\n",
    "\n",
    "model = make_pipeline(vec, svc)\n",
    "\n",
    "grid = GridSearchCV(model, param_grid, cv=7)\n",
    "grid.fit(X, y)\n",
    "print(grid.best_params_)\n",
    "\n",
    "model = grid.best_estimator_"
   ]
  },
  {
   "cell_type": "code",
   "execution_count": 14,
   "id": "c8a05ba1",
   "metadata": {},
   "outputs": [
    {
     "data": {
      "image/png": "[encoded data removed]",
      "text/plain": [
       "<Figure size 432x288 with 1 Axes>"
      ]
     },
     "metadata": {
      "needs_background": "light"
     },
     "output_type": "display_data"
    }
   ],
   "source": [
    "y_pred = model.predict(X)\n",
    "matx = confusion_matrix(y, y_pred)\n",
    "\n",
    "#plot confusion matrix\n",
    "sns.heatmap(matx.T, square=True, annot=True, fmt='d', cbar=False,\n",
    "            xticklabels=temp_labels, yticklabels=temp_labels)\n",
    "plt.xlabel('true label')\n",
    "plt.ylabel('predicted label');"
   ]
  },
  {
   "cell_type": "code",
   "execution_count": 15,
   "id": "e5c74052",
   "metadata": {
    "scrolled": false
   },
   "outputs": [
    {
     "data": {
      "text/plain": [
       "0.8"
      ]
     },
     "execution_count": 15,
     "metadata": {},
     "output_type": "execute_result"
    }
   ],
   "source": [
    "from sklearn.metrics import accuracy_score\n",
    "accuracy_score(y, y_pred)"
   ]
  },
  {
   "cell_type": "code",
   "execution_count": null,
   "id": "087e82d0",
   "metadata": {},
   "outputs": [],
   "source": [
    "'''\n",
    "Positive results. Properly split\n",
    "data into training and test set\n",
    "'''"
   ]
  },
  {
   "cell_type": "code",
   "execution_count": 16,
   "id": "a2ce234b",
   "metadata": {},
   "outputs": [
    {
     "name": "stdout",
     "output_type": "stream",
     "text": [
      "{'svc__C': 100.0, 'svc__gamma': 1}\n"
     ]
    }
   ],
   "source": [
    "from sklearn.model_selection import train_test_split\n",
    "X_train, X_test, y_train, y_test = train_test_split(X, y, test_size=0.2, random_state=42)\n",
    "\n",
    "param_grid = {'svc__C': [0.0001, 0.001, 0.1, 1, 1E1, 1E2],\n",
    "         'svc__gamma': [0.01, 0.1, 1, 1E1, 1E2, 1E3, 1E4, 1E5, 1E6]}\n",
    "\n",
    "vec = TfidfVectorizer(tokenizer=lambda txt: txt.split())\n",
    "svc = SVC()\n",
    "\n",
    "model = make_pipeline(vec, svc)\n",
    "\n",
    "grid = GridSearchCV(model, param_grid, cv=7)\n",
    "grid.fit(X_train, y_train)\n",
    "print(grid.best_params_)\n",
    "\n",
    "model = grid.best_estimator_"
   ]
  },
  {
   "cell_type": "code",
   "execution_count": 17,
   "id": "844c3cd6",
   "metadata": {},
   "outputs": [
    {
     "data": {
      "image/png": "[encoded data removed]",
      "text/plain": [
       "<Figure size 432x288 with 1 Axes>"
      ]
     },
     "metadata": {
      "needs_background": "light"
     },
     "output_type": "display_data"
    }
   ],
   "source": [
    "y_pred = model.predict(X_test)\n",
    "matx = confusion_matrix(y_test, y_pred)\n",
    "\n",
    "#plot confusion matrix\n",
    "sns.heatmap(matx.T, square=True, annot=True, fmt='d', cbar=False,\n",
    "            xticklabels=temp_labels, yticklabels=temp_labels)\n",
    "plt.xlabel('true label')\n",
    "plt.ylabel('predicted label');"
   ]
  },
  {
   "cell_type": "code",
   "execution_count": 18,
   "id": "3328d88c",
   "metadata": {
    "scrolled": true
   },
   "outputs": [
    {
     "data": {
      "text/plain": [
       "0.7833333333333333"
      ]
     },
     "execution_count": 18,
     "metadata": {},
     "output_type": "execute_result"
    }
   ],
   "source": [
    "from sklearn.metrics import accuracy_score\n",
    "accuracy_score(y_test, y_pred)"
   ]
  },
  {
   "cell_type": "code",
   "execution_count": 19,
   "id": "dd44a842",
   "metadata": {},
   "outputs": [
    {
     "data": {
      "text/plain": [
       "0.825"
      ]
     },
     "execution_count": 19,
     "metadata": {},
     "output_type": "execute_result"
    }
   ],
   "source": [
    "#check for overfitting\n",
    "y_self = model.predict(X_train)\n",
    "accuracy_score(y_train, y_self)"
   ]
  }
 ],
 "metadata": {
  "kernelspec": {
   "display_name": "Python 3",
   "language": "python",
   "name": "python3"
  },
  "language_info": {
   "codemirror_mode": {
    "name": "ipython",
    "version": 3
   },
   "file_extension": ".py",
   "mimetype": "text/x-python",
   "name": "python",
   "nbconvert_exporter": "python",
   "pygments_lexer": "ipython3",
   "version": "3.8.8"
  }
 },
 "nbformat": 4,
 "nbformat_minor": 5
}
